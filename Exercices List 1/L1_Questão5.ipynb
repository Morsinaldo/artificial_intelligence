{
  "nbformat": 4,
  "nbformat_minor": 0,
  "metadata": {
    "colab": {
      "provenance": []
    },
    "kernelspec": {
      "name": "python3",
      "display_name": "Python 3"
    },
    "language_info": {
      "name": "python"
    }
  },
  "cells": [
    {
      "cell_type": "markdown",
      "source": [
        "# Questão 5 da lista de IA"
      ],
      "metadata": {
        "id": "ScI0eZR_9qfq"
      }
    },
    {
      "cell_type": "markdown",
      "source": [
        "## a) Estime o vetor média e a matriz de covariância de cada distribuição gaussiana multivariada."
      ],
      "metadata": {
        "id": "51Um5MQe2rPg"
      }
    },
    {
      "cell_type": "markdown",
      "source": [
        "### Importação das bibliotecas"
      ],
      "metadata": {
        "id": "mbLMIk_s2xYV"
      }
    },
    {
      "cell_type": "code",
      "source": [
        "import numpy as np"
      ],
      "metadata": {
        "id": "div-NKnf_V3b"
      },
      "execution_count": 13,
      "outputs": []
    },
    {
      "cell_type": "markdown",
      "source": [
        "### Declaração das distribuições e cálculo da média e da matriz de covariância"
      ],
      "metadata": {
        "id": "k4STdcxg2zq5"
      }
    },
    {
      "cell_type": "markdown",
      "source": [
        "$\\mu_{w1} = \n",
        "\\begin{bmatrix}\n",
        "\\mu_{w1\\_x1}\\\\ \n",
        "\\mu_{w1\\_x2}\n",
        "\\end{bmatrix}$\n",
        "\n",
        "$\\mu_{w2} = \n",
        "\\begin{bmatrix}\n",
        "\\mu_{w2\\_x1}\\\\ \n",
        "\\mu_{w2\\_x2}\n",
        "\\end{bmatrix}$"
      ],
      "metadata": {
        "id": "rEitI7Fz3ULm"
      }
    },
    {
      "cell_type": "code",
      "execution_count": 14,
      "metadata": {
        "id": "UiefYzxe9nNJ"
      },
      "outputs": [],
      "source": [
        "# Declarando os vetores\n",
        "w1_x1 = [-5.01,-5.43,1.08,0.86,-2.67,4.94,-2.51,-2.25,5.56,1.03]\n",
        "w1_x2 = [-8.12,-3.48,-5.52,-3.78,0.63,3.29,2.09,-2.13,2.86,-3.33]\n",
        "w2_x1 = [-0.91,1.3,-7.75,-5.47,6.14,3.6,5.37,7.18,-7.39,-7.5]\n",
        "w2_x2 = [-0.18,-2.06,-4.54,0.5,5.72,1.26,-4.63,1.46,1.17,-6.32]"
      ]
    },
    {
      "cell_type": "code",
      "source": [
        "# Calculando as médias\n",
        "avg_w1_x1 = np.mean(w1_x1)\n",
        "avg_w1_x2 = np.mean(w1_x2)\n",
        "avg_w2_x1 = np.mean(w2_x1)\n",
        "avg_w2_x2 = np.mean(w2_x2)"
      ],
      "metadata": {
        "id": "-aZNyXDf_QTZ"
      },
      "execution_count": 15,
      "outputs": []
    },
    {
      "cell_type": "markdown",
      "source": [
        "$\\sigma_{w1} = \\begin{bmatrix}\n",
        "s_{w1\\_11} & s_{w1\\_12} \\\\\n",
        "s_{w1\\_21} & s_{w1\\_22}\n",
        "\\end{bmatrix}$ \n",
        "\n",
        "$\\sigma_{w2} = \\begin{bmatrix}\n",
        "s_{w2\\_11} & s_{w2\\_12} \\\\\n",
        "s_{w2\\_21} & s_{w2\\_22}\n",
        "\\end{bmatrix}$ "
      ],
      "metadata": {
        "id": "mvn9Pu8a30DH"
      }
    },
    {
      "cell_type": "code",
      "source": [
        "# Calculando as matrizes de covariância\n",
        "\n",
        "w1_s11 = 0\n",
        "w1_s12 = 0\n",
        "w1_s21 = 0\n",
        "w1_s22 = 0\n",
        "for i in range(0,10):\n",
        "  w1_s11 += (w1_x1[i]-avg_w1_x1)*(w1_x1[i]-avg_w1_x1)\n",
        "  w1_s12 += (w1_x1[i]-avg_w1_x1)*(w1_x2[i]-avg_w1_x2)\n",
        "  w1_s21 += (w1_x2[i]-avg_w1_x2)*(w1_x1[i]-avg_w1_x1)\n",
        "  w1_s22 += (w1_x2[i]-avg_w1_x2)*(w1_x2[i]-avg_w1_x2)\n",
        "\n",
        "w1_s11 = round(w1_s11/9, 4)\n",
        "w1_s12 = round(w1_s12/9, 4)\n",
        "w1_s21 = round(w1_s21/9, 4)\n",
        "w1_s22 = round(w1_s22/9, 4)\n",
        "\n",
        "matriz_w1 = [[w1_s11, w1_s12], [w1_s21, w1_s22]]\n",
        "matriz_w1"
      ],
      "metadata": {
        "id": "FeHn5j5J_fgM",
        "colab": {
          "base_uri": "https://localhost:8080/"
        },
        "outputId": "d8324990-334b-4c23-9b9d-0025554acbaa"
      },
      "execution_count": 16,
      "outputs": [
        {
          "output_type": "execute_result",
          "data": {
            "text/plain": [
              "[[14.3805, 7.6954], [7.6954, 14.6231]]"
            ]
          },
          "metadata": {},
          "execution_count": 16
        }
      ]
    },
    {
      "cell_type": "code",
      "source": [
        "# Calculando as matrizes de covariância\n",
        "\n",
        "w2_s11 = 0\n",
        "w2_s12 = 0\n",
        "w2_s21 = 0\n",
        "w2_s22 = 0\n",
        "for i in range(0,10):\n",
        "  w2_s11 += (w2_x1[i]-avg_w2_x1)*(w2_x1[i]-avg_w2_x1)\n",
        "  w2_s12 += (w2_x1[i]-avg_w2_x1)*(w2_x2[i]-avg_w2_x2)\n",
        "  w2_s21 += (w2_x2[i]-avg_w2_x2)*(w2_x1[i]-avg_w2_x1)\n",
        "  w2_s22 += (w2_x2[i]-avg_w2_x2)*(w2_x2[i]-avg_w2_x2)\n",
        "\n",
        "w2_s11 = round(w2_s11/9, 4)\n",
        "w2_s12 = round(w2_s12/9, 4)\n",
        "w2_s21 = round(w2_s21/9, 4)\n",
        "w2_s22 = round(w2_s22/9, 4)\n",
        "\n",
        "matriz_w2 = [[w2_s11, w2_s12], [w2_s21, w2_s22]]\n",
        "matriz_w2"
      ],
      "metadata": {
        "colab": {
          "base_uri": "https://localhost:8080/"
        },
        "id": "ifrL9qpB5P0v",
        "outputId": "74b3b075-cefb-468f-dda6-4d647ebc5179"
      },
      "execution_count": 17,
      "outputs": [
        {
          "output_type": "execute_result",
          "data": {
            "text/plain": [
              "[[36.8293, 9.9809], [9.9809, 13.1686]]"
            ]
          },
          "metadata": {},
          "execution_count": 17
        }
      ]
    },
    {
      "cell_type": "markdown",
      "source": [
        "## b) Determine a superfície de decisão"
      ],
      "metadata": {
        "id": "oKkZXkQ856u7"
      }
    },
    {
      "cell_type": "code",
      "source": [
        "avg_w1 = np.asarray([\n",
        "    [avg_w1_x1],\n",
        "    [avg_w1_x2]\n",
        "], dtype='float32')\n",
        "\n",
        "avg_w2 = np.asarray([\n",
        "    [avg_w2_x1],\n",
        "    [avg_w2_x2]\n",
        "], dtype='float32')\n",
        "\n",
        "cov_w1 = np.asarray([\n",
        "    [w1_s11, w1_s12],\n",
        "    [w1_s21, w1_s22]\n",
        "], dtype='float32')\n",
        "\n",
        "cov_w2 = np.asarray([\n",
        "    [w2_s11, w2_s12],\n",
        "    [w2_s21, w2_s22]\n",
        "], dtype='float32')\n",
        "\n",
        "print(avg_w1)\n",
        "print(avg_w2)\n",
        "print(cov_w1)\n",
        "print(cov_w2)"
      ],
      "metadata": {
        "colab": {
          "base_uri": "https://localhost:8080/"
        },
        "id": "x6XAARVX57Tx",
        "outputId": "aa74b15c-e13d-441f-abe4-b7cb364eb4ce"
      },
      "execution_count": 18,
      "outputs": [
        {
          "output_type": "stream",
          "name": "stdout",
          "text": [
            "[[-0.44 ]\n",
            " [-1.749]]\n",
            "[[-0.543]\n",
            " [-0.762]]\n",
            "[[14.3805  7.6954]\n",
            " [ 7.6954 14.6231]]\n",
            "[[36.8293  9.9809]\n",
            " [ 9.9809 13.1686]]\n"
          ]
        }
      ]
    },
    {
      "cell_type": "code",
      "source": [
        "# Função discriminante g1\n",
        "def g1(x):\n",
        "  t1 = np.transpose(x-avg_w1)\n",
        "  t2 = np.linalg.inv(cov_w1)\n",
        "  t3 = x-avg_w1\n",
        "  t4 = np.dot(t1, t2)\n",
        "  t5 = np.dot(t4, t3)\n",
        "  t6 = np.log(np.linalg.det(cov_w1))\n",
        "  r = float(-0.5*t5 - 0.5*t6)\n",
        "  return round(r,4)"
      ],
      "metadata": {
        "id": "RH89E7saA3xl"
      },
      "execution_count": 19,
      "outputs": []
    },
    {
      "cell_type": "code",
      "source": [
        "# Função discriminante g2\n",
        "def g2(x):\n",
        "  t1 = np.transpose(x-avg_w2)\n",
        "  t2 = np.linalg.inv(cov_w2)\n",
        "  t3 = x-avg_w2\n",
        "  t4 = np.dot(t1, t2)\n",
        "  t5 = np.dot(t4, t3)\n",
        "  t6 = np.log(np.linalg.det(cov_w2))\n",
        "  r = float(-0.5*t5 - 0.5*t6)\n",
        "  return round(r,4)"
      ],
      "metadata": {
        "id": "255WXbo3CHHw"
      },
      "execution_count": 20,
      "outputs": []
    },
    {
      "cell_type": "markdown",
      "source": [
        "## c) Classifique os pontos (padrões) (1, 2)t , (5, 3)t , (0, 0)t , (1, 0)t , decidindo pela classe com maior valor das funções discriminantes, isto e, max{gi(x)} ou faça pela região definida pela superfície de separação (função descriminante)"
      ],
      "metadata": {
        "id": "ALCjkMPnLkVU"
      }
    },
    {
      "cell_type": "code",
      "source": [
        "#Ponto (1,2)\n",
        "ponto1 = np.asarray([\n",
        "    [1,2]\n",
        "], dtype='float32')\n",
        "ponto1 = np.transpose(ponto1)\n",
        "\n",
        "if g1(ponto1) - g2(ponto1) > 0:\n",
        "  print(\"Esse ponto é classificado como classe w1\")\n",
        "else:\n",
        "  print(\"Esse ponto é classificado como classe w2\")"
      ],
      "metadata": {
        "id": "rUsGuHNaLdBe",
        "colab": {
          "base_uri": "https://localhost:8080/"
        },
        "outputId": "3a98462e-5d5e-40d0-d163-e3265e7e2864"
      },
      "execution_count": 21,
      "outputs": [
        {
          "output_type": "stream",
          "name": "stdout",
          "text": [
            "Esse ponto é classificado como classe w1\n"
          ]
        }
      ]
    },
    {
      "cell_type": "code",
      "source": [
        "#Ponto (5,3)\n",
        "ponto2 = np.asarray([\n",
        "    [5,3]\n",
        "], dtype='float32')\n",
        "ponto2 = np.transpose(ponto2)\n",
        "if g1(ponto2) - g2(ponto2) > 0:\n",
        "  print(\"Esse ponto é classificado como classe w1\")\n",
        "else:\n",
        "  print(\"Esse ponto é classificado como classe w2\")"
      ],
      "metadata": {
        "colab": {
          "base_uri": "https://localhost:8080/"
        },
        "id": "kUKnXrsgDKOl",
        "outputId": "287ae181-05c8-491b-9dbd-03fcf974fd93"
      },
      "execution_count": 22,
      "outputs": [
        {
          "output_type": "stream",
          "name": "stdout",
          "text": [
            "Esse ponto é classificado como classe w2\n"
          ]
        }
      ]
    },
    {
      "cell_type": "code",
      "source": [
        "#Ponto (0,0)\n",
        "ponto3 = np.asarray([\n",
        "    [0,0]\n",
        "], dtype='float32')\n",
        "ponto3 = np.transpose(ponto3)\n",
        "if g1(ponto3) - g2(ponto3) > 0:\n",
        "  print(\"Esse ponto é classificado como classe w1\")\n",
        "else:\n",
        "  print(\"Esse ponto é classificado como classe w2\")"
      ],
      "metadata": {
        "colab": {
          "base_uri": "https://localhost:8080/"
        },
        "id": "B3DdtKNlDOuY",
        "outputId": "e96a97b7-ea7d-4ab5-c3b7-ef27ad51bfa1"
      },
      "execution_count": 23,
      "outputs": [
        {
          "output_type": "stream",
          "name": "stdout",
          "text": [
            "Esse ponto é classificado como classe w1\n"
          ]
        }
      ]
    },
    {
      "cell_type": "code",
      "source": [
        "#Ponto (1,0)\n",
        "ponto4 = np.asarray([\n",
        "    [1,0]\n",
        "], dtype='float32')\n",
        "ponto4 = np.transpose(ponto4)\n",
        "if g1(ponto4) - g2(ponto4) > 0:\n",
        "  print(\"Esse ponto é classificado como classe w1\")\n",
        "else:\n",
        "  print(\"Esse ponto é classificado como classe w2\")"
      ],
      "metadata": {
        "colab": {
          "base_uri": "https://localhost:8080/"
        },
        "id": "GTjadLpxDRTq",
        "outputId": "821b1ce0-69e8-4083-b1b6-8b925cbdfb0c"
      },
      "execution_count": 24,
      "outputs": [
        {
          "output_type": "stream",
          "name": "stdout",
          "text": [
            "Esse ponto é classificado como classe w1\n"
          ]
        }
      ]
    }
  ]
}